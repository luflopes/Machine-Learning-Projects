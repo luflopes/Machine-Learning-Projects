{
 "cells": [
  {
   "cell_type": "markdown",
   "id": "0efedda4",
   "metadata": {},
   "source": [
    "# Previsão de Notas Escolares Com Análise de Regressão\n",
    "*06 de abril, 2022*\n",
    "___"
   ]
  },
  {
   "cell_type": "markdown",
   "id": "38647c08",
   "metadata": {},
   "source": [
    "![](https://media.istockphoto.com/vectors/students-vector-id1179973797?k=20&m=1179973797&s=170667a&w=0&h=eF46x41GmCZOkpBlNZHZMxkq42o5SaskvdhnjCLyuSY=)\n",
    "\n",
    "___"
   ]
  },
  {
   "cell_type": "markdown",
   "id": "20f7d79e",
   "metadata": {},
   "source": [
    "O desempenho de um estudante na universidade é influenciado por vários fatores, muitos deles são externos e independentes da atitude do aluno, mas outros estão inteiramente associados a dedicação do aluno.\n",
    "Além disso, Há também fatores que dependem da sociedade como um todo. Em vista disso, esta análise busca evidenciar alguns dos fatores que mais influenciam o sucesso acadêmico dos alunos.\n",
    "\n",
    "**Objetivo:** entender a relação entre as notas finais dos alunos e as diversas características de suas vidas pessoal e acadêmica, podendo assim, fazer previsões sobre o desempenho dos alunos nas provas finais. Para esta análise será criado um modelo que deve ter no mínimo 75% de acurácia.\n",
    "\n",
    "___"
   ]
  },
  {
   "cell_type": "markdown",
   "id": "88d29abf",
   "metadata": {},
   "source": [
    "### Tecnologias Utilizadas:\n",
    "\n",
    "* Linguagem R versão 4.1.2 - 64 bits\n",
    "* Linguagem Markdown\n",
    "* Jupyter Notebook\n",
    "\n",
    "___"
   ]
  },
  {
   "cell_type": "markdown",
   "id": "ec3904a2",
   "metadata": {},
   "source": [
    "### Etapa 1 - Preparação do ambiente e carregamento dos dados."
   ]
  },
  {
   "cell_type": "markdown",
   "id": "7ad2fc9e",
   "metadata": {},
   "source": [
    "Conjunto de dados obtidos do [UCI - Machine Learning Repository](https://archive.ics.uci.edu/ml/datasets/Student+Performance)\n",
    "\n",
    "Caso não tenha os pacotes abaixo instalados, será necessário instalar todos os pacotes que aparecem como comentários."
   ]
  },
  {
   "cell_type": "code",
   "execution_count": 1,
   "id": "5366f932",
   "metadata": {},
   "outputs": [],
   "source": [
    "# install.packages(\"ggplot2\")\n",
    "# install.packages(\"ggthemes\")\n",
    "# install.packages(\"dplyr\")\n",
    "# install.packages(\"corrplot\")\n",
    "# install.packages(\"corrgram\")\n",
    "# install.packages(\"miscset\")\n",
    "# install.packages(\"caTools\")\n",
    "# install.packages(\"e1071\")\n",
    "# install.packages(\"miscTools\")\n",
    "options(warn=-1)"
   ]
  },
  {
   "cell_type": "markdown",
   "id": "6e26c8ce",
   "metadata": {},
   "source": [
    "Importando todos os pacotes que serão utilizados durante a análise."
   ]
  },
  {
   "cell_type": "code",
   "execution_count": 2,
   "id": "f4d8c667",
   "metadata": {
    "scrolled": true
   },
   "outputs": [
    {
     "name": "stderr",
     "output_type": "stream",
     "text": [
      "\n",
      "Attaching package: 'dplyr'\n",
      "\n",
      "The following object is masked from 'package:miscset':\n",
      "\n",
      "    collapse\n",
      "\n",
      "The following objects are masked from 'package:stats':\n",
      "\n",
      "    filter, lag\n",
      "\n",
      "The following objects are masked from 'package:base':\n",
      "\n",
      "    intersect, setdiff, setequal, union\n",
      "\n",
      "corrplot 0.92 loaded\n"
     ]
    }
   ],
   "source": [
    "library(miscset)\n",
    "library(ggplot2)\n",
    "library(ggthemes)\n",
    "library(dplyr)\n",
    "library(corrplot)\n",
    "library(corrgram)\n",
    "library(reshape2)\n",
    "library(caTools)\n",
    "library(e1071)\n",
    "library(miscTools)\n",
    "library(repr)\n"
   ]
  },
  {
   "cell_type": "markdown",
   "id": "e9040c2b",
   "metadata": {},
   "source": [
    "Carregando o conjunto de dados com os dados dos estudantes."
   ]
  },
  {
   "cell_type": "code",
   "execution_count": 3,
   "id": "319456a2",
   "metadata": {},
   "outputs": [],
   "source": [
    "df <- read.csv2('estudantes.csv', stringsAsFactors = FALSE)"
   ]
  },
  {
   "cell_type": "markdown",
   "id": "09fd5c3d",
   "metadata": {},
   "source": [
    "___\n",
    "### Etapa 2 - Análise exploratória dos dados"
   ]
  },
  {
   "cell_type": "markdown",
   "id": "ec18525d",
   "metadata": {},
   "source": [
    "Visualização de parte do conjunto de dados"
   ]
  },
  {
   "cell_type": "code",
   "execution_count": 4,
   "id": "a7f5f543",
   "metadata": {
    "scrolled": true
   },
   "outputs": [
    {
     "data": {
      "text/html": [
       "<table>\n",
       "<thead><tr><th scope=col>school</th><th scope=col>sex</th><th scope=col>age</th><th scope=col>address</th><th scope=col>famsize</th><th scope=col>Pstatus</th><th scope=col>Medu</th><th scope=col>Fedu</th><th scope=col>Mjob</th><th scope=col>Fjob</th><th scope=col>...</th><th scope=col>famrel</th><th scope=col>freetime</th><th scope=col>goout</th><th scope=col>Dalc</th><th scope=col>Walc</th><th scope=col>health</th><th scope=col>absences</th><th scope=col>G1</th><th scope=col>G2</th><th scope=col>G3</th></tr></thead>\n",
       "<tbody>\n",
       "\t<tr><td>GP      </td><td>F       </td><td>18      </td><td>U       </td><td>GT3     </td><td>A       </td><td>4       </td><td>4       </td><td>at_home </td><td>teacher </td><td>...     </td><td>4       </td><td>3       </td><td>4       </td><td>1       </td><td>1       </td><td>3       </td><td> 6      </td><td> 5      </td><td> 6      </td><td> 6      </td></tr>\n",
       "\t<tr><td>GP      </td><td>F       </td><td>17      </td><td>U       </td><td>GT3     </td><td>T       </td><td>1       </td><td>1       </td><td>at_home </td><td>other   </td><td>...     </td><td>5       </td><td>3       </td><td>3       </td><td>1       </td><td>1       </td><td>3       </td><td> 4      </td><td> 5      </td><td> 5      </td><td> 6      </td></tr>\n",
       "\t<tr><td>GP      </td><td>F       </td><td>15      </td><td>U       </td><td>LE3     </td><td>T       </td><td>1       </td><td>1       </td><td>at_home </td><td>other   </td><td>...     </td><td>4       </td><td>3       </td><td>2       </td><td>2       </td><td>3       </td><td>3       </td><td>10      </td><td> 7      </td><td> 8      </td><td>10      </td></tr>\n",
       "\t<tr><td>GP      </td><td>F       </td><td>15      </td><td>U       </td><td>GT3     </td><td>T       </td><td>4       </td><td>2       </td><td>health  </td><td>services</td><td>...     </td><td>3       </td><td>2       </td><td>2       </td><td>1       </td><td>1       </td><td>5       </td><td> 2      </td><td>15      </td><td>14      </td><td>15      </td></tr>\n",
       "\t<tr><td>GP      </td><td>F       </td><td>16      </td><td>U       </td><td>GT3     </td><td>T       </td><td>3       </td><td>3       </td><td>other   </td><td>other   </td><td>...     </td><td>4       </td><td>3       </td><td>2       </td><td>1       </td><td>2       </td><td>5       </td><td> 4      </td><td> 6      </td><td>10      </td><td>10      </td></tr>\n",
       "\t<tr><td>GP      </td><td>M       </td><td>16      </td><td>U       </td><td>LE3     </td><td>T       </td><td>4       </td><td>3       </td><td>services</td><td>other   </td><td>...     </td><td>5       </td><td>4       </td><td>2       </td><td>1       </td><td>2       </td><td>5       </td><td>10      </td><td>15      </td><td>15      </td><td>15      </td></tr>\n",
       "</tbody>\n",
       "</table>\n"
      ],
      "text/latex": [
       "\\begin{tabular}{r|lllllllllllllllllllllllllllllllll}\n",
       " school & sex & age & address & famsize & Pstatus & Medu & Fedu & Mjob & Fjob & ... & famrel & freetime & goout & Dalc & Walc & health & absences & G1 & G2 & G3\\\\\n",
       "\\hline\n",
       "\t GP         & F          & 18         & U          & GT3        & A          & 4          & 4          & at\\_home  & teacher    & ...        & 4          & 3          & 4          & 1          & 1          & 3          &  6         &  5         &  6         &  6        \\\\\n",
       "\t GP         & F          & 17         & U          & GT3        & T          & 1          & 1          & at\\_home  & other      & ...        & 5          & 3          & 3          & 1          & 1          & 3          &  4         &  5         &  5         &  6        \\\\\n",
       "\t GP         & F          & 15         & U          & LE3        & T          & 1          & 1          & at\\_home  & other      & ...        & 4          & 3          & 2          & 2          & 3          & 3          & 10         &  7         &  8         & 10        \\\\\n",
       "\t GP       & F        & 15       & U        & GT3      & T        & 4        & 2        & health   & services & ...      & 3        & 2        & 2        & 1        & 1        & 5        &  2       & 15       & 14       & 15      \\\\\n",
       "\t GP       & F        & 16       & U        & GT3      & T        & 3        & 3        & other    & other    & ...      & 4        & 3        & 2        & 1        & 2        & 5        &  4       &  6       & 10       & 10      \\\\\n",
       "\t GP       & M        & 16       & U        & LE3      & T        & 4        & 3        & services & other    & ...      & 5        & 4        & 2        & 1        & 2        & 5        & 10       & 15       & 15       & 15      \\\\\n",
       "\\end{tabular}\n"
      ],
      "text/markdown": [
       "\n",
       "| school | sex | age | address | famsize | Pstatus | Medu | Fedu | Mjob | Fjob | ... | famrel | freetime | goout | Dalc | Walc | health | absences | G1 | G2 | G3 |\n",
       "|---|---|---|---|---|---|---|---|---|---|---|---|---|---|---|---|---|---|---|---|---|\n",
       "| GP       | F        | 18       | U        | GT3      | A        | 4        | 4        | at_home  | teacher  | ...      | 4        | 3        | 4        | 1        | 1        | 3        |  6       |  5       |  6       |  6       |\n",
       "| GP       | F        | 17       | U        | GT3      | T        | 1        | 1        | at_home  | other    | ...      | 5        | 3        | 3        | 1        | 1        | 3        |  4       |  5       |  5       |  6       |\n",
       "| GP       | F        | 15       | U        | LE3      | T        | 1        | 1        | at_home  | other    | ...      | 4        | 3        | 2        | 2        | 3        | 3        | 10       |  7       |  8       | 10       |\n",
       "| GP       | F        | 15       | U        | GT3      | T        | 4        | 2        | health   | services | ...      | 3        | 2        | 2        | 1        | 1        | 5        |  2       | 15       | 14       | 15       |\n",
       "| GP       | F        | 16       | U        | GT3      | T        | 3        | 3        | other    | other    | ...      | 4        | 3        | 2        | 1        | 2        | 5        |  4       |  6       | 10       | 10       |\n",
       "| GP       | M        | 16       | U        | LE3      | T        | 4        | 3        | services | other    | ...      | 5        | 4        | 2        | 1        | 2        | 5        | 10       | 15       | 15       | 15       |\n",
       "\n"
      ],
      "text/plain": [
       "  school sex age address famsize Pstatus Medu Fedu Mjob     Fjob     ... famrel\n",
       "1 GP     F   18  U       GT3     A       4    4    at_home  teacher  ... 4     \n",
       "2 GP     F   17  U       GT3     T       1    1    at_home  other    ... 5     \n",
       "3 GP     F   15  U       LE3     T       1    1    at_home  other    ... 4     \n",
       "4 GP     F   15  U       GT3     T       4    2    health   services ... 3     \n",
       "5 GP     F   16  U       GT3     T       3    3    other    other    ... 4     \n",
       "6 GP     M   16  U       LE3     T       4    3    services other    ... 5     \n",
       "  freetime goout Dalc Walc health absences G1 G2 G3\n",
       "1 3        4     1    1    3       6        5  6  6\n",
       "2 3        3     1    1    3       4        5  5  6\n",
       "3 3        2     2    3    3      10        7  8 10\n",
       "4 2        2     1    1    5       2       15 14 15\n",
       "5 3        2     1    2    5       4        6 10 10\n",
       "6 4        2     1    2    5      10       15 15 15"
      ]
     },
     "metadata": {},
     "output_type": "display_data"
    }
   ],
   "source": [
    "head(df)"
   ]
  },
  {
   "cell_type": "markdown",
   "id": "958a4723",
   "metadata": {},
   "source": [
    "Verificando os tipos das variáveis no conjunto de dados"
   ]
  },
  {
   "cell_type": "code",
   "execution_count": 5,
   "id": "002b0dca",
   "metadata": {
    "scrolled": false
   },
   "outputs": [
    {
     "name": "stdout",
     "output_type": "stream",
     "text": [
      "'data.frame':\t395 obs. of  33 variables:\n",
      " $ school    : chr  \"GP\" \"GP\" \"GP\" \"GP\" ...\n",
      " $ sex       : chr  \"F\" \"F\" \"F\" \"F\" ...\n",
      " $ age       : int  18 17 15 15 16 16 16 17 15 15 ...\n",
      " $ address   : chr  \"U\" \"U\" \"U\" \"U\" ...\n",
      " $ famsize   : chr  \"GT3\" \"GT3\" \"LE3\" \"GT3\" ...\n",
      " $ Pstatus   : chr  \"A\" \"T\" \"T\" \"T\" ...\n",
      " $ Medu      : int  4 1 1 4 3 4 2 4 3 3 ...\n",
      " $ Fedu      : int  4 1 1 2 3 3 2 4 2 4 ...\n",
      " $ Mjob      : chr  \"at_home\" \"at_home\" \"at_home\" \"health\" ...\n",
      " $ Fjob      : chr  \"teacher\" \"other\" \"other\" \"services\" ...\n",
      " $ reason    : chr  \"course\" \"course\" \"other\" \"home\" ...\n",
      " $ guardian  : chr  \"mother\" \"father\" \"mother\" \"mother\" ...\n",
      " $ traveltime: int  2 1 1 1 1 1 1 2 1 1 ...\n",
      " $ studytime : int  2 2 2 3 2 2 2 2 2 2 ...\n",
      " $ failures  : int  0 0 3 0 0 0 0 0 0 0 ...\n",
      " $ schoolsup : chr  \"yes\" \"no\" \"yes\" \"no\" ...\n",
      " $ famsup    : chr  \"no\" \"yes\" \"no\" \"yes\" ...\n",
      " $ paid      : chr  \"no\" \"no\" \"yes\" \"yes\" ...\n",
      " $ activities: chr  \"no\" \"no\" \"no\" \"yes\" ...\n",
      " $ nursery   : chr  \"yes\" \"no\" \"yes\" \"yes\" ...\n",
      " $ higher    : chr  \"yes\" \"yes\" \"yes\" \"yes\" ...\n",
      " $ internet  : chr  \"no\" \"yes\" \"yes\" \"yes\" ...\n",
      " $ romantic  : chr  \"no\" \"no\" \"no\" \"yes\" ...\n",
      " $ famrel    : int  4 5 4 3 4 5 4 4 4 5 ...\n",
      " $ freetime  : int  3 3 3 2 3 4 4 1 2 5 ...\n",
      " $ goout     : int  4 3 2 2 2 2 4 4 2 1 ...\n",
      " $ Dalc      : int  1 1 2 1 1 1 1 1 1 1 ...\n",
      " $ Walc      : int  1 1 3 1 2 2 1 1 1 1 ...\n",
      " $ health    : int  3 3 3 5 5 5 3 1 1 5 ...\n",
      " $ absences  : int  6 4 10 2 4 10 0 6 0 0 ...\n",
      " $ G1        : int  5 5 7 15 6 15 12 6 16 14 ...\n",
      " $ G2        : int  6 5 8 14 10 15 12 5 18 15 ...\n",
      " $ G3        : int  6 6 10 15 10 15 11 6 19 15 ...\n"
     ]
    }
   ],
   "source": [
    "str(df)"
   ]
  },
  {
   "cell_type": "markdown",
   "id": "e84d92ac",
   "metadata": {},
   "source": [
    "Verificando se há valores ausentes na base de dados"
   ]
  },
  {
   "cell_type": "code",
   "execution_count": 6,
   "id": "616682e5",
   "metadata": {
    "scrolled": false
   },
   "outputs": [
    {
     "data": {
      "text/html": [
       "FALSE"
      ],
      "text/latex": [
       "FALSE"
      ],
      "text/markdown": [
       "FALSE"
      ],
      "text/plain": [
       "[1] FALSE"
      ]
     },
     "metadata": {},
     "output_type": "display_data"
    }
   ],
   "source": [
    "any(is.na(df))"
   ]
  },
  {
   "cell_type": "markdown",
   "id": "326bed4f",
   "metadata": {},
   "source": [
    "Verificando se há registros duplicados no conjunto de dados"
   ]
  },
  {
   "cell_type": "code",
   "execution_count": 47,
   "id": "f99ce91e",
   "metadata": {},
   "outputs": [
    {
     "data": {
      "text/plain": [
       "\n",
       "FALSE \n",
       "  395 "
      ]
     },
     "metadata": {},
     "output_type": "display_data"
    }
   ],
   "source": [
    "table(duplicated(df))"
   ]
  },
  {
   "cell_type": "markdown",
   "id": "efb502cf",
   "metadata": {},
   "source": [
    "Analisando acorrelação entre as variáveis numéricas"
   ]
  },
  {
   "cell_type": "code",
   "execution_count": 7,
   "id": "d27fa907",
   "metadata": {
    "scrolled": true
   },
   "outputs": [
    {
     "data": {
      "text/html": [
       "<table>\n",
       "<thead><tr><th></th><th scope=col>age</th><th scope=col>Medu</th><th scope=col>Fedu</th><th scope=col>traveltime</th><th scope=col>studytime</th><th scope=col>failures</th><th scope=col>famrel</th><th scope=col>freetime</th><th scope=col>goout</th><th scope=col>Dalc</th><th scope=col>Walc</th><th scope=col>health</th><th scope=col>absences</th><th scope=col>G1</th><th scope=col>G2</th><th scope=col>G3</th></tr></thead>\n",
       "<tbody>\n",
       "\t<tr><th scope=row>age</th><td> 1.000000000</td><td>-0.16365842 </td><td>-0.163438069</td><td> 0.07064072 </td><td>-0.004140037</td><td> 0.24366538 </td><td> 0.053940096</td><td> 0.01643439 </td><td> 0.12696388 </td><td> 0.131124605</td><td> 0.11727605 </td><td>-0.062187369</td><td> 0.17523008 </td><td>-0.06408150 </td><td>-0.1434740  </td><td>-0.16157944 </td></tr>\n",
       "\t<tr><th scope=row>Medu</th><td>-0.163658419</td><td> 1.00000000 </td><td> 0.623455112</td><td>-0.17163930 </td><td> 0.064944137</td><td>-0.23667996 </td><td>-0.003914458</td><td> 0.03089087 </td><td> 0.06409444 </td><td> 0.019834099</td><td>-0.04712346 </td><td>-0.046877829</td><td> 0.10028482 </td><td> 0.20534100 </td><td> 0.2155272  </td><td> 0.21714750 </td></tr>\n",
       "\t<tr><th scope=row>Fedu</th><td>-0.163438069</td><td> 0.62345511 </td><td> 1.000000000</td><td>-0.15819405 </td><td>-0.009174639</td><td>-0.25040844 </td><td>-0.001369727</td><td>-0.01284553 </td><td> 0.04310467 </td><td> 0.002386429</td><td>-0.01263102 </td><td> 0.014741537</td><td> 0.02447289 </td><td> 0.19026994 </td><td> 0.1648934  </td><td> 0.15245694 </td></tr>\n",
       "\t<tr><th scope=row>traveltime</th><td> 0.070640721</td><td>-0.17163930 </td><td>-0.158194054</td><td> 1.00000000 </td><td>-0.100909119</td><td> 0.09223875 </td><td>-0.016807986</td><td>-0.01702494 </td><td> 0.02853967 </td><td> 0.138325309</td><td> 0.13411575 </td><td> 0.007500606</td><td>-0.01294378 </td><td>-0.09303999 </td><td>-0.1531980  </td><td>-0.11714205 </td></tr>\n",
       "\t<tr><th scope=row>studytime</th><td>-0.004140037</td><td> 0.06494414 </td><td>-0.009174639</td><td>-0.10090912 </td><td> 1.000000000</td><td>-0.17356303 </td><td> 0.039730704</td><td>-0.14319841 </td><td>-0.06390368 </td><td>-0.196019263</td><td>-0.25378473 </td><td>-0.075615863</td><td>-0.06270018 </td><td> 0.16061192 </td><td> 0.1358800  </td><td> 0.09781969 </td></tr>\n",
       "\t<tr><th scope=row>failures</th><td> 0.243665377</td><td>-0.23667996 </td><td>-0.250408444</td><td> 0.09223875 </td><td>-0.173563031</td><td> 1.00000000 </td><td>-0.044336626</td><td> 0.09198747 </td><td> 0.12456092 </td><td> 0.136046931</td><td> 0.14196203 </td><td> 0.065827282</td><td> 0.06372583 </td><td>-0.35471761 </td><td>-0.3558956  </td><td>-0.36041494 </td></tr>\n",
       "</tbody>\n",
       "</table>\n"
      ],
      "text/latex": [
       "\\begin{tabular}{r|llllllllllllllll}\n",
       "  & age & Medu & Fedu & traveltime & studytime & failures & famrel & freetime & goout & Dalc & Walc & health & absences & G1 & G2 & G3\\\\\n",
       "\\hline\n",
       "\tage &  1.000000000 & -0.16365842  & -0.163438069 &  0.07064072  & -0.004140037 &  0.24366538  &  0.053940096 &  0.01643439  &  0.12696388  &  0.131124605 &  0.11727605  & -0.062187369 &  0.17523008  & -0.06408150  & -0.1434740   & -0.16157944 \\\\\n",
       "\tMedu & -0.163658419 &  1.00000000  &  0.623455112 & -0.17163930  &  0.064944137 & -0.23667996  & -0.003914458 &  0.03089087  &  0.06409444  &  0.019834099 & -0.04712346  & -0.046877829 &  0.10028482  &  0.20534100  &  0.2155272   &  0.21714750 \\\\\n",
       "\tFedu & -0.163438069 &  0.62345511  &  1.000000000 & -0.15819405  & -0.009174639 & -0.25040844  & -0.001369727 & -0.01284553  &  0.04310467  &  0.002386429 & -0.01263102  &  0.014741537 &  0.02447289  &  0.19026994  &  0.1648934   &  0.15245694 \\\\\n",
       "\ttraveltime &  0.070640721 & -0.17163930  & -0.158194054 &  1.00000000  & -0.100909119 &  0.09223875  & -0.016807986 & -0.01702494  &  0.02853967  &  0.138325309 &  0.13411575  &  0.007500606 & -0.01294378  & -0.09303999  & -0.1531980   & -0.11714205 \\\\\n",
       "\tstudytime & -0.004140037 &  0.06494414  & -0.009174639 & -0.10090912  &  1.000000000 & -0.17356303  &  0.039730704 & -0.14319841  & -0.06390368  & -0.196019263 & -0.25378473  & -0.075615863 & -0.06270018  &  0.16061192  &  0.1358800   &  0.09781969 \\\\\n",
       "\tfailures &  0.243665377 & -0.23667996  & -0.250408444 &  0.09223875  & -0.173563031 &  1.00000000  & -0.044336626 &  0.09198747  &  0.12456092  &  0.136046931 &  0.14196203  &  0.065827282 &  0.06372583  & -0.35471761  & -0.3558956   & -0.36041494 \\\\\n",
       "\\end{tabular}\n"
      ],
      "text/markdown": [
       "\n",
       "| <!--/--> | age | Medu | Fedu | traveltime | studytime | failures | famrel | freetime | goout | Dalc | Walc | health | absences | G1 | G2 | G3 |\n",
       "|---|---|---|---|---|---|---|---|---|---|---|---|---|---|---|---|---|\n",
       "| age |  1.000000000 | -0.16365842  | -0.163438069 |  0.07064072  | -0.004140037 |  0.24366538  |  0.053940096 |  0.01643439  |  0.12696388  |  0.131124605 |  0.11727605  | -0.062187369 |  0.17523008  | -0.06408150  | -0.1434740   | -0.16157944  |\n",
       "| Medu | -0.163658419 |  1.00000000  |  0.623455112 | -0.17163930  |  0.064944137 | -0.23667996  | -0.003914458 |  0.03089087  |  0.06409444  |  0.019834099 | -0.04712346  | -0.046877829 |  0.10028482  |  0.20534100  |  0.2155272   |  0.21714750  |\n",
       "| Fedu | -0.163438069 |  0.62345511  |  1.000000000 | -0.15819405  | -0.009174639 | -0.25040844  | -0.001369727 | -0.01284553  |  0.04310467  |  0.002386429 | -0.01263102  |  0.014741537 |  0.02447289  |  0.19026994  |  0.1648934   |  0.15245694  |\n",
       "| traveltime |  0.070640721 | -0.17163930  | -0.158194054 |  1.00000000  | -0.100909119 |  0.09223875  | -0.016807986 | -0.01702494  |  0.02853967  |  0.138325309 |  0.13411575  |  0.007500606 | -0.01294378  | -0.09303999  | -0.1531980   | -0.11714205  |\n",
       "| studytime | -0.004140037 |  0.06494414  | -0.009174639 | -0.10090912  |  1.000000000 | -0.17356303  |  0.039730704 | -0.14319841  | -0.06390368  | -0.196019263 | -0.25378473  | -0.075615863 | -0.06270018  |  0.16061192  |  0.1358800   |  0.09781969  |\n",
       "| failures |  0.243665377 | -0.23667996  | -0.250408444 |  0.09223875  | -0.173563031 |  1.00000000  | -0.044336626 |  0.09198747  |  0.12456092  |  0.136046931 |  0.14196203  |  0.065827282 |  0.06372583  | -0.35471761  | -0.3558956   | -0.36041494  |\n",
       "\n"
      ],
      "text/plain": [
       "           age          Medu        Fedu         traveltime  studytime   \n",
       "age         1.000000000 -0.16365842 -0.163438069  0.07064072 -0.004140037\n",
       "Medu       -0.163658419  1.00000000  0.623455112 -0.17163930  0.064944137\n",
       "Fedu       -0.163438069  0.62345511  1.000000000 -0.15819405 -0.009174639\n",
       "traveltime  0.070640721 -0.17163930 -0.158194054  1.00000000 -0.100909119\n",
       "studytime  -0.004140037  0.06494414 -0.009174639 -0.10090912  1.000000000\n",
       "failures    0.243665377 -0.23667996 -0.250408444  0.09223875 -0.173563031\n",
       "           failures    famrel       freetime    goout       Dalc        \n",
       "age         0.24366538  0.053940096  0.01643439  0.12696388  0.131124605\n",
       "Medu       -0.23667996 -0.003914458  0.03089087  0.06409444  0.019834099\n",
       "Fedu       -0.25040844 -0.001369727 -0.01284553  0.04310467  0.002386429\n",
       "traveltime  0.09223875 -0.016807986 -0.01702494  0.02853967  0.138325309\n",
       "studytime  -0.17356303  0.039730704 -0.14319841 -0.06390368 -0.196019263\n",
       "failures    1.00000000 -0.044336626  0.09198747  0.12456092  0.136046931\n",
       "           Walc        health       absences    G1          G2        \n",
       "age         0.11727605 -0.062187369  0.17523008 -0.06408150 -0.1434740\n",
       "Medu       -0.04712346 -0.046877829  0.10028482  0.20534100  0.2155272\n",
       "Fedu       -0.01263102  0.014741537  0.02447289  0.19026994  0.1648934\n",
       "traveltime  0.13411575  0.007500606 -0.01294378 -0.09303999 -0.1531980\n",
       "studytime  -0.25378473 -0.075615863 -0.06270018  0.16061192  0.1358800\n",
       "failures    0.14196203  0.065827282  0.06372583 -0.35471761 -0.3558956\n",
       "           G3         \n",
       "age        -0.16157944\n",
       "Medu        0.21714750\n",
       "Fedu        0.15245694\n",
       "traveltime -0.11714205\n",
       "studytime   0.09781969\n",
       "failures   -0.36041494"
      ]
     },
     "metadata": {},
     "output_type": "display_data"
    }
   ],
   "source": [
    "colunas_numericas <- sapply(df, is.numeric)\n",
    "data_cor <- cor(df[, colunas_numericas])\n",
    "head(data_cor)"
   ]
  },
  {
   "cell_type": "markdown",
   "id": "151111c9",
   "metadata": {},
   "source": [
    "Criando o corrplot (mapa de correlação) para analisar a correlação entre as variáveis de maneira ggráfica"
   ]
  },
  {
   "cell_type": "code",
   "execution_count": 8,
   "id": "37d2fff1",
   "metadata": {
    "scrolled": false
   },
   "outputs": [
    {
     "data": {
      "image/png": "[encoded data removed]",
      "text/plain": [
       "Plot with title \"\""
      ]
     },
     "metadata": {},
     "output_type": "display_data"
    }
   ],
   "source": [
    "options(repr.plot.width=7, repr.plot.height=4)\n",
    "corrplot(data_cor, method = 'color')"
   ]
  },
  {
   "cell_type": "markdown",
   "id": "90777e75",
   "metadata": {},
   "source": [
    " Analisando o gráfico a cima podemos notar que há uma forte corrrelação entre as variáveis G1 e G2 com a variável que queremos prever, G3. Sendo assim, vamos analisar um pouco mais as distribuições de frequências das variáveis G1, G2 e G3"
   ]
  },
  {
   "cell_type": "code",
   "execution_count": 9,
   "id": "e7f9ff91",
   "metadata": {},
   "outputs": [
    {
     "data": {
      "image/png": "[encoded data removed]",
      "text/plain": [
       "plot without title"
      ]
     },
     "metadata": {},
     "output_type": "display_data"
    }
   ],
   "source": [
    "options(repr.plot.width=8, repr.plot.height=3)\n",
    "ggplotGrid(ncol = 3,\n",
    "           lapply(c(\"G1\", \"G2\", \"G3\"),\n",
    "                  function(col) {\n",
    "                    ggplot(df, aes_string(col)) + \n",
    "                      geom_histogram(color=\"blue\", fill=\"pink\", bins = 20) +\n",
    "                      geom_vline(aes(xintercept=mean(G3)),\n",
    "                                 color=\"red\", linetype=\"dashed\", size=1) +\n",
    "                      theme_minimal()\n",
    "                  }))"
   ]
  },
  {
   "cell_type": "markdown",
   "id": "b5d7ec26",
   "metadata": {},
   "source": [
    "Podemos notar a cima que as variáveis G1 e G2 e G3 possuem distribuições semelelhantes, tendo médias próximas de 10.\n",
    "No entanto, podemos ver em G2 e G3 um deslocamento das frequências no sentido esquerdo, ou seja, frequências diferentes nos extremos."
   ]
  },
  {
   "cell_type": "markdown",
   "id": "a63382a7",
   "metadata": {},
   "source": [
    "Para estes casos analisaremos abaixo as estatísticas descritivas com o uso de um gráfico de boxplot."
   ]
  },
  {
   "cell_type": "code",
   "execution_count": 10,
   "id": "3d738085",
   "metadata": {},
   "outputs": [
    {
     "name": "stderr",
     "output_type": "stream",
     "text": [
      "No id variables; using all as measure variables\n"
     ]
    }
   ],
   "source": [
    "# Criando uma tabela apenas com as variáveis G1, G2 e G3\n",
    "\n",
    "df_boxplot <- tibble(G1 = df$G1, G2 = df$G2, G3 = df$G3)\n",
    "\n",
    "# Reorganizando os dados para analisarmos as 3 variáveis em apenas um plot\n",
    "\n",
    "df_boxplot <- melt(data = df_boxplot,\n",
    "                   value.name = \"exam_score\",\n",
    "                   variable.name= \"exam\")"
   ]
  },
  {
   "cell_type": "markdown",
   "id": "7b30035e",
   "metadata": {},
   "source": [
    "Plotagem do gráfico boxplot"
   ]
  },
  {
   "cell_type": "code",
   "execution_count": 11,
   "id": "3cba8c47",
   "metadata": {
    "scrolled": false
   },
   "outputs": [
    {
     "data": {
      "image/png": "[encoded data removed]",
      "text/plain": [
       "plot without title"
      ]
     },
     "metadata": {},
     "output_type": "display_data"
    }
   ],
   "source": [
    "options(repr.plot.width=7, repr.plot.height=3)\n",
    "ggplot(df_boxplot, aes(x=exam, y=exam_score, color=exam)) +\n",
    "  geom_boxplot() + theme_minimal()"
   ]
  },
  {
   "cell_type": "markdown",
   "id": "3bf4f5ce",
   "metadata": {},
   "source": [
    "Podemos notar algumas características dessas variáveis:\n",
    "* Existem outliers (pontos de mínimo) em G2;\n",
    "* O intervalo interquartil é maior para G3 que para G1 e G2;\n",
    "* As medianas estão próximas da média, o que pode indicar normalidade dos dados.\n",
    "___"
   ]
  },
  {
   "cell_type": "markdown",
   "id": "30b324e2",
   "metadata": {},
   "source": [
    "Apenas a proximidade entre medianas e médias não são o suficiente para indicar se os dados se assemelham ou não a uma distribuição normal.\n",
    "Para isto é recomendável a aplicação de algum teste de normalidade. Neste caso, usaremos o teste de normalidade de **Shapiro-Wilk**.\n",
    "\n",
    "Como resultado, o teste retornará a estatística W, que terá um valor de significância associada, e o valor-p. Para dizer que uma distribuição é normal, o valor p *precisa ser maior do que* **0,05**."
   ]
  },
  {
   "cell_type": "markdown",
   "id": "cce75bd3",
   "metadata": {},
   "source": [
    "Agora, vamos aplicar o teste de normalidade de Shapiro-Wilk para as variáveis G1, G2 e G3 considerando as hipóteses:\n",
    "\n",
    "* **H0**: Os dados são normalmente distribuídos.\n",
    "* **H1**: Os dados não são normalmente distribuídos."
   ]
  },
  {
   "cell_type": "code",
   "execution_count": 12,
   "id": "c74c68b4",
   "metadata": {},
   "outputs": [
    {
     "data": {
      "text/plain": [
       "\n",
       "\tShapiro-Wilk normality test\n",
       "\n",
       "data:  df$G1\n",
       "W = 0.97491, p-value = 2.454e-06\n"
      ]
     },
     "metadata": {},
     "output_type": "display_data"
    }
   ],
   "source": [
    "shapiro.test(df$G1)"
   ]
  },
  {
   "cell_type": "code",
   "execution_count": 13,
   "id": "ec226e6b",
   "metadata": {},
   "outputs": [
    {
     "data": {
      "text/plain": [
       "\n",
       "\tShapiro-Wilk normality test\n",
       "\n",
       "data:  df$G2\n",
       "W = 0.96914, p-value = 2.084e-07\n"
      ]
     },
     "metadata": {},
     "output_type": "display_data"
    }
   ],
   "source": [
    "shapiro.test(df$G2)"
   ]
  },
  {
   "cell_type": "code",
   "execution_count": 14,
   "id": "c33404ab",
   "metadata": {
    "scrolled": true
   },
   "outputs": [
    {
     "data": {
      "text/plain": [
       "\n",
       "\tShapiro-Wilk normality test\n",
       "\n",
       "data:  df$G3\n",
       "W = 0.92873, p-value = 8.836e-13\n"
      ]
     },
     "metadata": {},
     "output_type": "display_data"
    }
   ],
   "source": [
    "shapiro.test(df$G3)"
   ]
  },
  {
   "cell_type": "markdown",
   "id": "352d1c14",
   "metadata": {},
   "source": [
    "___\n",
    "Todos os valores de p-valor acima foram menores que o nível de significância. Sendo assim, **rejeitamos a hipótese nula (H0)** para as três variáveis. Isto quer dizer que há forte evidência de que os dados não são normalmente distribuídos, pois diferem de uma curva normal."
   ]
  },
  {
   "cell_type": "markdown",
   "id": "e7f6d63f",
   "metadata": {},
   "source": [
    "Verificaremos agora, as variaveis categóricas do conjunto de dados, ou seja, as variáveis qualitativas."
   ]
  },
  {
   "cell_type": "markdown",
   "id": "50aace59",
   "metadata": {},
   "source": [
    "Obtendo as variáveis categóricas do dataset"
   ]
  },
  {
   "cell_type": "code",
   "execution_count": 15,
   "id": "9496bd16",
   "metadata": {},
   "outputs": [],
   "source": [
    "colunas_categoricas <- sapply(df, is.character)\n",
    "colunas_categoricas <- colnames(df[, colunas_categoricas])"
   ]
  },
  {
   "cell_type": "markdown",
   "id": "a927757f",
   "metadata": {},
   "source": [
    "Analisando as distribuições de frequências das variáveis categóricas"
   ]
  },
  {
   "cell_type": "code",
   "execution_count": 16,
   "id": "047a36ae",
   "metadata": {
    "scrolled": false
   },
   "outputs": [
    {
     "data": {
      "image/png": "[encoded data removed]",
      "text/plain": [
       "plot without title"
      ]
     },
     "metadata": {},
     "output_type": "display_data"
    }
   ],
   "source": [
    "options(repr.plot.width=8, repr.plot.height=10)\n",
    "ggplotGrid(ncol = 3,\n",
    "           lapply(colunas_categoricas,\n",
    "                  function(col) {\n",
    "                    ggplot(df, aes_string(col)) + geom_bar(fill=\"pink\") + theme_minimal()\n",
    "                  }))"
   ]
  },
  {
   "cell_type": "markdown",
   "id": "597c6a70",
   "metadata": {},
   "source": [
    "___\n",
    "### Etapa 3 - Pré-processamento dos Dados"
   ]
  },
  {
   "cell_type": "markdown",
   "id": "4652f940",
   "metadata": {},
   "source": [
    "Vamos criar uma função para aplicar a normalização dos dados, uma vez que possuímos variáveis em diferentes escalas. Neste caso, queremos evitar que o modelo sofra um efeito muito forte dos coeficientes das variáveis de maior escala."
   ]
  },
  {
   "cell_type": "code",
   "execution_count": 17,
   "id": "6939b7e3",
   "metadata": {},
   "outputs": [],
   "source": [
    "normalizar <- function(x) {\n",
    "  return ((x - min(x)) / (max(x) - min(x)))\n",
    "}"
   ]
  },
  {
   "cell_type": "markdown",
   "id": "4fefa77a",
   "metadata": {},
   "source": [
    "Normalizando os dados"
   ]
  },
  {
   "cell_type": "code",
   "execution_count": 18,
   "id": "8ff75132",
   "metadata": {
    "scrolled": true
   },
   "outputs": [
    {
     "data": {
      "text/html": [
       "<table>\n",
       "<thead><tr><th scope=col>age</th><th scope=col>Medu</th><th scope=col>Fedu</th><th scope=col>traveltime</th><th scope=col>studytime</th><th scope=col>failures</th><th scope=col>famrel</th><th scope=col>freetime</th><th scope=col>goout</th><th scope=col>Dalc</th><th scope=col>Walc</th><th scope=col>health</th><th scope=col>absences</th><th scope=col>G1</th><th scope=col>G2</th><th scope=col>G3</th></tr></thead>\n",
       "<tbody>\n",
       "\t<tr><td>0.4285714 </td><td>1.00      </td><td>1.00      </td><td>0.3333333 </td><td>0.3333333 </td><td>0         </td><td>0.75      </td><td>0.50      </td><td>0.75      </td><td>0.00      </td><td>0.00      </td><td>0.5       </td><td>0.08000000</td><td>0.1250    </td><td>0.3157895 </td><td>0.30      </td></tr>\n",
       "\t<tr><td>0.2857143 </td><td>0.25      </td><td>0.25      </td><td>0.0000000 </td><td>0.3333333 </td><td>0         </td><td>1.00      </td><td>0.50      </td><td>0.50      </td><td>0.00      </td><td>0.00      </td><td>0.5       </td><td>0.05333333</td><td>0.1250    </td><td>0.2631579 </td><td>0.30      </td></tr>\n",
       "\t<tr><td>0.0000000 </td><td>0.25      </td><td>0.25      </td><td>0.0000000 </td><td>0.3333333 </td><td>1         </td><td>0.75      </td><td>0.50      </td><td>0.25      </td><td>0.25      </td><td>0.50      </td><td>0.5       </td><td>0.13333333</td><td>0.2500    </td><td>0.4210526 </td><td>0.50      </td></tr>\n",
       "\t<tr><td>0.0000000 </td><td>1.00      </td><td>0.50      </td><td>0.0000000 </td><td>0.6666667 </td><td>0         </td><td>0.50      </td><td>0.25      </td><td>0.25      </td><td>0.00      </td><td>0.00      </td><td>1.0       </td><td>0.02666667</td><td>0.7500    </td><td>0.7368421 </td><td>0.75      </td></tr>\n",
       "\t<tr><td>0.1428571 </td><td>0.75      </td><td>0.75      </td><td>0.0000000 </td><td>0.3333333 </td><td>0         </td><td>0.75      </td><td>0.50      </td><td>0.25      </td><td>0.00      </td><td>0.25      </td><td>1.0       </td><td>0.05333333</td><td>0.1875    </td><td>0.5263158 </td><td>0.50      </td></tr>\n",
       "\t<tr><td>0.1428571 </td><td>1.00      </td><td>0.75      </td><td>0.0000000 </td><td>0.3333333 </td><td>0         </td><td>1.00      </td><td>0.75      </td><td>0.25      </td><td>0.00      </td><td>0.25      </td><td>1.0       </td><td>0.13333333</td><td>0.7500    </td><td>0.7894737 </td><td>0.75      </td></tr>\n",
       "</tbody>\n",
       "</table>\n"
      ],
      "text/latex": [
       "\\begin{tabular}{r|llllllllllllllll}\n",
       " age & Medu & Fedu & traveltime & studytime & failures & famrel & freetime & goout & Dalc & Walc & health & absences & G1 & G2 & G3\\\\\n",
       "\\hline\n",
       "\t 0.4285714  & 1.00       & 1.00       & 0.3333333  & 0.3333333  & 0          & 0.75       & 0.50       & 0.75       & 0.00       & 0.00       & 0.5        & 0.08000000 & 0.1250     & 0.3157895  & 0.30      \\\\\n",
       "\t 0.2857143  & 0.25       & 0.25       & 0.0000000  & 0.3333333  & 0          & 1.00       & 0.50       & 0.50       & 0.00       & 0.00       & 0.5        & 0.05333333 & 0.1250     & 0.2631579  & 0.30      \\\\\n",
       "\t 0.0000000  & 0.25       & 0.25       & 0.0000000  & 0.3333333  & 1          & 0.75       & 0.50       & 0.25       & 0.25       & 0.50       & 0.5        & 0.13333333 & 0.2500     & 0.4210526  & 0.50      \\\\\n",
       "\t 0.0000000  & 1.00       & 0.50       & 0.0000000  & 0.6666667  & 0          & 0.50       & 0.25       & 0.25       & 0.00       & 0.00       & 1.0        & 0.02666667 & 0.7500     & 0.7368421  & 0.75      \\\\\n",
       "\t 0.1428571  & 0.75       & 0.75       & 0.0000000  & 0.3333333  & 0          & 0.75       & 0.50       & 0.25       & 0.00       & 0.25       & 1.0        & 0.05333333 & 0.1875     & 0.5263158  & 0.50      \\\\\n",
       "\t 0.1428571  & 1.00       & 0.75       & 0.0000000  & 0.3333333  & 0          & 1.00       & 0.75       & 0.25       & 0.00       & 0.25       & 1.0        & 0.13333333 & 0.7500     & 0.7894737  & 0.75      \\\\\n",
       "\\end{tabular}\n"
      ],
      "text/markdown": [
       "\n",
       "| age | Medu | Fedu | traveltime | studytime | failures | famrel | freetime | goout | Dalc | Walc | health | absences | G1 | G2 | G3 |\n",
       "|---|---|---|---|---|---|---|---|---|---|---|---|---|---|---|---|\n",
       "| 0.4285714  | 1.00       | 1.00       | 0.3333333  | 0.3333333  | 0          | 0.75       | 0.50       | 0.75       | 0.00       | 0.00       | 0.5        | 0.08000000 | 0.1250     | 0.3157895  | 0.30       |\n",
       "| 0.2857143  | 0.25       | 0.25       | 0.0000000  | 0.3333333  | 0          | 1.00       | 0.50       | 0.50       | 0.00       | 0.00       | 0.5        | 0.05333333 | 0.1250     | 0.2631579  | 0.30       |\n",
       "| 0.0000000  | 0.25       | 0.25       | 0.0000000  | 0.3333333  | 1          | 0.75       | 0.50       | 0.25       | 0.25       | 0.50       | 0.5        | 0.13333333 | 0.2500     | 0.4210526  | 0.50       |\n",
       "| 0.0000000  | 1.00       | 0.50       | 0.0000000  | 0.6666667  | 0          | 0.50       | 0.25       | 0.25       | 0.00       | 0.00       | 1.0        | 0.02666667 | 0.7500     | 0.7368421  | 0.75       |\n",
       "| 0.1428571  | 0.75       | 0.75       | 0.0000000  | 0.3333333  | 0          | 0.75       | 0.50       | 0.25       | 0.00       | 0.25       | 1.0        | 0.05333333 | 0.1875     | 0.5263158  | 0.50       |\n",
       "| 0.1428571  | 1.00       | 0.75       | 0.0000000  | 0.3333333  | 0          | 1.00       | 0.75       | 0.25       | 0.00       | 0.25       | 1.0        | 0.13333333 | 0.7500     | 0.7894737  | 0.75       |\n",
       "\n"
      ],
      "text/plain": [
       "  age       Medu Fedu traveltime studytime failures famrel freetime goout Dalc\n",
       "1 0.4285714 1.00 1.00 0.3333333  0.3333333 0        0.75   0.50     0.75  0.00\n",
       "2 0.2857143 0.25 0.25 0.0000000  0.3333333 0        1.00   0.50     0.50  0.00\n",
       "3 0.0000000 0.25 0.25 0.0000000  0.3333333 1        0.75   0.50     0.25  0.25\n",
       "4 0.0000000 1.00 0.50 0.0000000  0.6666667 0        0.50   0.25     0.25  0.00\n",
       "5 0.1428571 0.75 0.75 0.0000000  0.3333333 0        0.75   0.50     0.25  0.00\n",
       "6 0.1428571 1.00 0.75 0.0000000  0.3333333 0        1.00   0.75     0.25  0.00\n",
       "  Walc health absences   G1     G2        G3  \n",
       "1 0.00 0.5    0.08000000 0.1250 0.3157895 0.30\n",
       "2 0.00 0.5    0.05333333 0.1250 0.2631579 0.30\n",
       "3 0.50 0.5    0.13333333 0.2500 0.4210526 0.50\n",
       "4 0.00 1.0    0.02666667 0.7500 0.7368421 0.75\n",
       "5 0.25 1.0    0.05333333 0.1875 0.5263158 0.50\n",
       "6 0.25 1.0    0.13333333 0.7500 0.7894737 0.75"
      ]
     },
     "metadata": {},
     "output_type": "display_data"
    }
   ],
   "source": [
    "dados_norm <- as.data.frame(lapply(df[, colunas_numericas], normalizar))\n",
    "head(dados_norm)"
   ]
  },
  {
   "cell_type": "markdown",
   "id": "b9aaa02f",
   "metadata": {},
   "source": [
    "Unindo novamente o dataframe (vars categóricas + numéricas)"
   ]
  },
  {
   "cell_type": "code",
   "execution_count": 20,
   "id": "51fadaf1",
   "metadata": {
    "scrolled": true
   },
   "outputs": [
    {
     "data": {
      "text/html": [
       "<table>\n",
       "<thead><tr><th scope=col>age</th><th scope=col>Medu</th><th scope=col>Fedu</th><th scope=col>traveltime</th><th scope=col>studytime</th><th scope=col>failures</th><th scope=col>famrel</th><th scope=col>freetime</th><th scope=col>goout</th><th scope=col>Dalc</th><th scope=col>...</th><th scope=col>reason</th><th scope=col>guardian</th><th scope=col>schoolsup</th><th scope=col>famsup</th><th scope=col>paid</th><th scope=col>activities</th><th scope=col>nursery</th><th scope=col>higher</th><th scope=col>internet</th><th scope=col>romantic</th></tr></thead>\n",
       "<tbody>\n",
       "\t<tr><td>0.4285714 </td><td>1.00      </td><td>1.00      </td><td>0.3333333 </td><td>0.3333333 </td><td>0         </td><td>0.75      </td><td>0.50      </td><td>0.75      </td><td>0.00      </td><td>...       </td><td>course    </td><td>mother    </td><td>yes       </td><td>no        </td><td>no        </td><td>no        </td><td>yes       </td><td>yes       </td><td>no        </td><td>no        </td></tr>\n",
       "\t<tr><td>0.2857143 </td><td>0.25      </td><td>0.25      </td><td>0.0000000 </td><td>0.3333333 </td><td>0         </td><td>1.00      </td><td>0.50      </td><td>0.50      </td><td>0.00      </td><td>...       </td><td>course    </td><td>father    </td><td>no        </td><td>yes       </td><td>no        </td><td>no        </td><td>no        </td><td>yes       </td><td>yes       </td><td>no        </td></tr>\n",
       "\t<tr><td>0.0000000 </td><td>0.25      </td><td>0.25      </td><td>0.0000000 </td><td>0.3333333 </td><td>1         </td><td>0.75      </td><td>0.50      </td><td>0.25      </td><td>0.25      </td><td>...       </td><td>other     </td><td>mother    </td><td>yes       </td><td>no        </td><td>yes       </td><td>no        </td><td>yes       </td><td>yes       </td><td>yes       </td><td>no        </td></tr>\n",
       "\t<tr><td>0.0000000 </td><td>1.00      </td><td>0.50      </td><td>0.0000000 </td><td>0.6666667 </td><td>0         </td><td>0.50      </td><td>0.25      </td><td>0.25      </td><td>0.00      </td><td>...       </td><td>home      </td><td>mother    </td><td>no        </td><td>yes       </td><td>yes       </td><td>yes       </td><td>yes       </td><td>yes       </td><td>yes       </td><td>yes       </td></tr>\n",
       "\t<tr><td>0.1428571 </td><td>0.75      </td><td>0.75      </td><td>0.0000000 </td><td>0.3333333 </td><td>0         </td><td>0.75      </td><td>0.50      </td><td>0.25      </td><td>0.00      </td><td>...       </td><td>home      </td><td>father    </td><td>no        </td><td>yes       </td><td>yes       </td><td>no        </td><td>yes       </td><td>yes       </td><td>no        </td><td>no        </td></tr>\n",
       "\t<tr><td>0.1428571 </td><td>1.00      </td><td>0.75      </td><td>0.0000000 </td><td>0.3333333 </td><td>0         </td><td>1.00      </td><td>0.75      </td><td>0.25      </td><td>0.00      </td><td>...       </td><td>reputation</td><td>mother    </td><td>no        </td><td>yes       </td><td>yes       </td><td>yes       </td><td>yes       </td><td>yes       </td><td>yes       </td><td>no        </td></tr>\n",
       "</tbody>\n",
       "</table>\n"
      ],
      "text/latex": [
       "\\begin{tabular}{r|lllllllllllllllllllllllllllllllll}\n",
       " age & Medu & Fedu & traveltime & studytime & failures & famrel & freetime & goout & Dalc & ... & reason & guardian & schoolsup & famsup & paid & activities & nursery & higher & internet & romantic\\\\\n",
       "\\hline\n",
       "\t 0.4285714  & 1.00       & 1.00       & 0.3333333  & 0.3333333  & 0          & 0.75       & 0.50       & 0.75       & 0.00       & ...        & course     & mother     & yes        & no         & no         & no         & yes        & yes        & no         & no        \\\\\n",
       "\t 0.2857143  & 0.25       & 0.25       & 0.0000000  & 0.3333333  & 0          & 1.00       & 0.50       & 0.50       & 0.00       & ...        & course     & father     & no         & yes        & no         & no         & no         & yes        & yes        & no        \\\\\n",
       "\t 0.0000000  & 0.25       & 0.25       & 0.0000000  & 0.3333333  & 1          & 0.75       & 0.50       & 0.25       & 0.25       & ...        & other      & mother     & yes        & no         & yes        & no         & yes        & yes        & yes        & no        \\\\\n",
       "\t 0.0000000  & 1.00       & 0.50       & 0.0000000  & 0.6666667  & 0          & 0.50       & 0.25       & 0.25       & 0.00       & ...        & home       & mother     & no         & yes        & yes        & yes        & yes        & yes        & yes        & yes       \\\\\n",
       "\t 0.1428571  & 0.75       & 0.75       & 0.0000000  & 0.3333333  & 0          & 0.75       & 0.50       & 0.25       & 0.00       & ...        & home       & father     & no         & yes        & yes        & no         & yes        & yes        & no         & no        \\\\\n",
       "\t 0.1428571  & 1.00       & 0.75       & 0.0000000  & 0.3333333  & 0          & 1.00       & 0.75       & 0.25       & 0.00       & ...        & reputation & mother     & no         & yes        & yes        & yes        & yes        & yes        & yes        & no        \\\\\n",
       "\\end{tabular}\n"
      ],
      "text/markdown": [
       "\n",
       "| age | Medu | Fedu | traveltime | studytime | failures | famrel | freetime | goout | Dalc | ... | reason | guardian | schoolsup | famsup | paid | activities | nursery | higher | internet | romantic |\n",
       "|---|---|---|---|---|---|---|---|---|---|---|---|---|---|---|---|---|---|---|---|---|\n",
       "| 0.4285714  | 1.00       | 1.00       | 0.3333333  | 0.3333333  | 0          | 0.75       | 0.50       | 0.75       | 0.00       | ...        | course     | mother     | yes        | no         | no         | no         | yes        | yes        | no         | no         |\n",
       "| 0.2857143  | 0.25       | 0.25       | 0.0000000  | 0.3333333  | 0          | 1.00       | 0.50       | 0.50       | 0.00       | ...        | course     | father     | no         | yes        | no         | no         | no         | yes        | yes        | no         |\n",
       "| 0.0000000  | 0.25       | 0.25       | 0.0000000  | 0.3333333  | 1          | 0.75       | 0.50       | 0.25       | 0.25       | ...        | other      | mother     | yes        | no         | yes        | no         | yes        | yes        | yes        | no         |\n",
       "| 0.0000000  | 1.00       | 0.50       | 0.0000000  | 0.6666667  | 0          | 0.50       | 0.25       | 0.25       | 0.00       | ...        | home       | mother     | no         | yes        | yes        | yes        | yes        | yes        | yes        | yes        |\n",
       "| 0.1428571  | 0.75       | 0.75       | 0.0000000  | 0.3333333  | 0          | 0.75       | 0.50       | 0.25       | 0.00       | ...        | home       | father     | no         | yes        | yes        | no         | yes        | yes        | no         | no         |\n",
       "| 0.1428571  | 1.00       | 0.75       | 0.0000000  | 0.3333333  | 0          | 1.00       | 0.75       | 0.25       | 0.00       | ...        | reputation | mother     | no         | yes        | yes        | yes        | yes        | yes        | yes        | no         |\n",
       "\n"
      ],
      "text/plain": [
       "  age       Medu Fedu traveltime studytime failures famrel freetime goout Dalc\n",
       "1 0.4285714 1.00 1.00 0.3333333  0.3333333 0        0.75   0.50     0.75  0.00\n",
       "2 0.2857143 0.25 0.25 0.0000000  0.3333333 0        1.00   0.50     0.50  0.00\n",
       "3 0.0000000 0.25 0.25 0.0000000  0.3333333 1        0.75   0.50     0.25  0.25\n",
       "4 0.0000000 1.00 0.50 0.0000000  0.6666667 0        0.50   0.25     0.25  0.00\n",
       "5 0.1428571 0.75 0.75 0.0000000  0.3333333 0        0.75   0.50     0.25  0.00\n",
       "6 0.1428571 1.00 0.75 0.0000000  0.3333333 0        1.00   0.75     0.25  0.00\n",
       "  ... reason     guardian schoolsup famsup paid activities nursery higher\n",
       "1 ... course     mother   yes       no     no   no         yes     yes   \n",
       "2 ... course     father   no        yes    no   no         no      yes   \n",
       "3 ... other      mother   yes       no     yes  no         yes     yes   \n",
       "4 ... home       mother   no        yes    yes  yes        yes     yes   \n",
       "5 ... home       father   no        yes    yes  no         yes     yes   \n",
       "6 ... reputation mother   no        yes    yes  yes        yes     yes   \n",
       "  internet romantic\n",
       "1 no       no      \n",
       "2 yes      no      \n",
       "3 yes      no      \n",
       "4 yes      yes     \n",
       "5 no       no      \n",
       "6 yes      no      "
      ]
     },
     "metadata": {},
     "output_type": "display_data"
    }
   ],
   "source": [
    "dados_norm <- cbind(dados_norm, df[, colunas_categoricas])\n",
    "head(dados_norm)"
   ]
  },
  {
   "cell_type": "markdown",
   "id": "5281e417",
   "metadata": {},
   "source": [
    "___\n",
    "### Etapa 4 - Construção do Modelo de Regressão"
   ]
  },
  {
   "cell_type": "markdown",
   "id": "c5e26b6e",
   "metadata": {},
   "source": [
    "Agora iremos dividir o dataset em dados de treino e teste de forma aleatória. Destinaremos 70% dos dados para treino e 30% para teste."
   ]
  },
  {
   "cell_type": "code",
   "execution_count": 21,
   "id": "61b4ae70",
   "metadata": {},
   "outputs": [],
   "source": [
    "amostra <- sample.split(df$age, 0.70)\n",
    "treino <- subset(df, amostra == TRUE)\n",
    "teste <- subset(df, amostra == FALSE)"
   ]
  },
  {
   "cell_type": "markdown",
   "id": "5bee8961",
   "metadata": {},
   "source": [
    "Treinando os modelos com os dados sem pré-processamento.\n",
    "* modelo_v1: Incluindo todas as variáveis preditoras.\n",
    "* modelo_v2: Incluindo apenas as variáveis preditoras G1 e G2 que apresentaram uma forte correlação positiva."
   ]
  },
  {
   "cell_type": "code",
   "execution_count": 22,
   "id": "b5d8a2d8",
   "metadata": {},
   "outputs": [],
   "source": [
    "modelo_v1 <- lm(G3 ~ ., treino)       \n",
    "modelo_v2 <- lm(G3 ~ G2 + G1, treino) "
   ]
  },
  {
   "cell_type": "markdown",
   "id": "fe2d68df",
   "metadata": {},
   "source": [
    "Verificando o R2 dos modelos, ou seja o quanto o modelo criado é capaz de explicar os dados."
   ]
  },
  {
   "cell_type": "code",
   "execution_count": 23,
   "id": "aa3870f8",
   "metadata": {
    "scrolled": true
   },
   "outputs": [
    {
     "data": {
      "text/html": [
       "'R2 do modelo_v1: 84.59 %'"
      ],
      "text/latex": [
       "'R2 do modelo\\_v1: 84.59 \\%'"
      ],
      "text/markdown": [
       "'R2 do modelo_v1: 84.59 %'"
      ],
      "text/plain": [
       "[1] \"R2 do modelo_v1: 84.59 %\""
      ]
     },
     "metadata": {},
     "output_type": "display_data"
    },
    {
     "data": {
      "text/html": [
       "'R2 do modelo_v2: 82.12 %'"
      ],
      "text/latex": [
       "'R2 do modelo\\_v2: 82.12 \\%'"
      ],
      "text/markdown": [
       "'R2 do modelo_v2: 82.12 %'"
      ],
      "text/plain": [
       "[1] \"R2 do modelo_v2: 82.12 %\""
      ]
     },
     "metadata": {},
     "output_type": "display_data"
    }
   ],
   "source": [
    "paste(\"R2 do modelo_v1:\", round(summary(modelo_v1)[[\"r.squared\"]]*100, 2), \"%\")\n",
    "paste(\"R2 do modelo_v2:\", round(summary(modelo_v2)[[\"r.squared\"]]*100, 2), \"%\")"
   ]
  },
  {
   "cell_type": "markdown",
   "id": "847edc74",
   "metadata": {},
   "source": [
    "Faremos o mesmo com os dados normalizados para verificar se houve melhora na acurácia do modelo."
   ]
  },
  {
   "cell_type": "code",
   "execution_count": 24,
   "id": "8cce4500",
   "metadata": {},
   "outputs": [],
   "source": [
    "amostra <- sample.split(dados_norm$age, 0.70)\n",
    "treino_norm <- subset(dados_norm, amostra == TRUE)\n",
    "teste_norm <- subset(dados_norm, amostra == FALSE)"
   ]
  },
  {
   "cell_type": "markdown",
   "id": "0330e3f9",
   "metadata": {},
   "source": [
    "Construindo novos modelos com os dados que foram **pré-processados** (normalizados)"
   ]
  },
  {
   "cell_type": "code",
   "execution_count": 26,
   "id": "4a51a624",
   "metadata": {},
   "outputs": [],
   "source": [
    "modelo_v3 <- lm(G3 ~ ., treino_norm)\n",
    "modelo_v4 <- lm(G3 ~ G2 + G1, treino_norm)"
   ]
  },
  {
   "cell_type": "markdown",
   "id": "de8a69d3",
   "metadata": {},
   "source": [
    "Treinando os modelos com os dados normalizados durante o pré-processamento.\n",
    "* modelo_v3: Incluindo todas as variáveis preditoras.\n",
    "* modelo_v4: Incluindo apenas as variáveis preditoras G1 e G2 que apresentaram uma forte correlação positiva."
   ]
  },
  {
   "cell_type": "code",
   "execution_count": 27,
   "id": "5e13ab29",
   "metadata": {
    "scrolled": false
   },
   "outputs": [
    {
     "data": {
      "text/html": [
       "'R2 do modelo_v3: 86.5 %'"
      ],
      "text/latex": [
       "'R2 do modelo\\_v3: 86.5 \\%'"
      ],
      "text/markdown": [
       "'R2 do modelo_v3: 86.5 %'"
      ],
      "text/plain": [
       "[1] \"R2 do modelo_v3: 86.5 %\""
      ]
     },
     "metadata": {},
     "output_type": "display_data"
    },
    {
     "data": {
      "text/html": [
       "'R2 do modelo_v4: 84.25 %'"
      ],
      "text/latex": [
       "'R2 do modelo\\_v4: 84.25 \\%'"
      ],
      "text/markdown": [
       "'R2 do modelo_v4: 84.25 %'"
      ],
      "text/plain": [
       "[1] \"R2 do modelo_v4: 84.25 %\""
      ]
     },
     "metadata": {},
     "output_type": "display_data"
    }
   ],
   "source": [
    "paste(\"R2 do modelo_v3:\", round(summary(modelo_v3)[[\"r.squared\"]]*100, 2), \"%\")\n",
    "paste(\"R2 do modelo_v4:\", round(summary(modelo_v4)[[\"r.squared\"]]*100, 2), \"%\")"
   ]
  },
  {
   "cell_type": "markdown",
   "id": "fe716337",
   "metadata": {},
   "source": [
    "___\n",
    "Construindo o modelo de regressão com o Suport Vector Machine (SVM)"
   ]
  },
  {
   "cell_type": "code",
   "execution_count": 44,
   "id": "bc43ccdd",
   "metadata": {
    "scrolled": true
   },
   "outputs": [
    {
     "data": {
      "text/plain": [
       "\n",
       "Call:\n",
       "svm(formula = G3 ~ ., data = treino, type = \"eps-regression\", kernel = \"radial\")\n",
       "\n",
       "\n",
       "Parameters:\n",
       "   SVM-Type:  eps-regression \n",
       " SVM-Kernel:  radial \n",
       "       cost:  1 \n",
       "      gamma:  0.02380952 \n",
       "    epsilon:  0.1 \n",
       "\n",
       "\n",
       "Number of Support Vectors:  185\n",
       "\n",
       "\n",
       "\n",
       "\n"
      ]
     },
     "metadata": {},
     "output_type": "display_data"
    }
   ],
   "source": [
    "modelo_v5 <- svm(G3 ~ ., treino, type = 'eps-regression', kernel='radial')\n",
    "summary(modelo_v5)"
   ]
  },
  {
   "cell_type": "markdown",
   "id": "fe5a6019",
   "metadata": {},
   "source": [
    "Fazendo previsões e calculando o **R2** para o modelo_v5 (SVM)"
   ]
  },
  {
   "cell_type": "code",
   "execution_count": 48,
   "id": "c57d4b78",
   "metadata": {},
   "outputs": [
    {
     "data": {
      "text/html": [
       "<table>\n",
       "<tbody>\n",
       "\t<tr><td>0.7808573</td></tr>\n",
       "</tbody>\n",
       "</table>\n"
      ],
      "text/latex": [
       "\\begin{tabular}{l}\n",
       "\t 0.7808573\\\\\n",
       "\\end{tabular}\n"
      ],
      "text/markdown": [
       "\n",
       "| 0.7808573 |\n",
       "\n"
      ],
      "text/plain": [
       "     [,1]     \n",
       "[1,] 0.7808573"
      ]
     },
     "metadata": {},
     "output_type": "display_data"
    }
   ],
   "source": [
    "resultados_1 <- predict(modelo_v5, teste[-33])\n",
    "\n",
    "rsq = rSquared(teste[[\"G3\"]], resid = teste[[\"G3\"]] - resultados_1)\n",
    "rsq"
   ]
  },
  {
   "cell_type": "code",
   "execution_count": 49,
   "id": "ea6f04f2",
   "metadata": {
    "scrolled": true
   },
   "outputs": [
    {
     "data": {
      "text/html": [
       "<table>\n",
       "<thead><tr><th></th><th scope=col>res</th></tr></thead>\n",
       "<tbody>\n",
       "\t<tr><th scope=row>2</th><td> 1.83149375</td></tr>\n",
       "\t<tr><th scope=row>4</th><td> 1.32118060</td></tr>\n",
       "\t<tr><th scope=row>6</th><td>-1.06984272</td></tr>\n",
       "\t<tr><th scope=row>7</th><td>-0.59685972</td></tr>\n",
       "\t<tr><th scope=row>8</th><td> 1.40756133</td></tr>\n",
       "\t<tr><th scope=row>9</th><td> 0.01993313</td></tr>\n",
       "</tbody>\n",
       "</table>\n"
      ],
      "text/latex": [
       "\\begin{tabular}{r|l}\n",
       "  & res\\\\\n",
       "\\hline\n",
       "\t2 &  1.83149375\\\\\n",
       "\t4 &  1.32118060\\\\\n",
       "\t6 & -1.06984272\\\\\n",
       "\t7 & -0.59685972\\\\\n",
       "\t8 &  1.40756133\\\\\n",
       "\t9 &  0.01993313\\\\\n",
       "\\end{tabular}\n"
      ],
      "text/markdown": [
       "\n",
       "| <!--/--> | res |\n",
       "|---|---|\n",
       "| 2 |  1.83149375 |\n",
       "| 4 |  1.32118060 |\n",
       "| 6 | -1.06984272 |\n",
       "| 7 | -0.59685972 |\n",
       "| 8 |  1.40756133 |\n",
       "| 9 |  0.01993313 |\n",
       "\n"
      ],
      "text/plain": [
       "  res        \n",
       "2  1.83149375\n",
       "4  1.32118060\n",
       "6 -1.06984272\n",
       "7 -0.59685972\n",
       "8  1.40756133\n",
       "9  0.01993313"
      ]
     },
     "metadata": {},
     "output_type": "display_data"
    }
   ],
   "source": [
    "# Obtendo os resíduos do modelo_v1\n",
    "\n",
    "res <- residuals(modelo_v1)\n",
    "res <- as.data.frame(res)\n",
    "head(res)"
   ]
  },
  {
   "cell_type": "markdown",
   "id": "5c0013f2",
   "metadata": {},
   "source": [
    "Podemos notar que o modelo que apresentou maior acurácia foi o modelo_v3, apresentando um R2 de **86.5 %**. Portanto, selecionaremos este modelo como a versão final."
   ]
  },
  {
   "cell_type": "markdown",
   "id": "9583dee8",
   "metadata": {},
   "source": [
    "Testando os modelo_v3"
   ]
  },
  {
   "cell_type": "code",
   "execution_count": 82,
   "id": "39eeecad",
   "metadata": {
    "scrolled": true
   },
   "outputs": [
    {
     "data": {
      "text/html": [
       "<table>\n",
       "<thead><tr><th></th><th scope=col>Previsto</th><th scope=col>Real</th></tr></thead>\n",
       "<tbody>\n",
       "\t<tr><th scope=row>3</th><td>0.3698672</td><td>0.50     </td></tr>\n",
       "\t<tr><th scope=row>6</th><td>0.8062246</td><td>0.75     </td></tr>\n",
       "\t<tr><th scope=row>7</th><td>0.6044354</td><td>0.55     </td></tr>\n",
       "\t<tr><th scope=row>8</th><td>0.2342742</td><td>0.30     </td></tr>\n",
       "\t<tr><th scope=row>11</th><td>0.4021824</td><td>0.45     </td></tr>\n",
       "\t<tr><th scope=row>14</th><td>0.5472028</td><td>0.55     </td></tr>\n",
       "</tbody>\n",
       "</table>\n"
      ],
      "text/latex": [
       "\\begin{tabular}{r|ll}\n",
       "  & Previsto & Real\\\\\n",
       "\\hline\n",
       "\t3 & 0.3698672 & 0.50     \\\\\n",
       "\t6 & 0.8062246 & 0.75     \\\\\n",
       "\t7 & 0.6044354 & 0.55     \\\\\n",
       "\t8 & 0.2342742 & 0.30     \\\\\n",
       "\t11 & 0.4021824 & 0.45     \\\\\n",
       "\t14 & 0.5472028 & 0.55     \\\\\n",
       "\\end{tabular}\n"
      ],
      "text/markdown": [
       "\n",
       "| <!--/--> | Previsto | Real |\n",
       "|---|---|---|\n",
       "| 3 | 0.3698672 | 0.50      |\n",
       "| 6 | 0.8062246 | 0.75      |\n",
       "| 7 | 0.6044354 | 0.55      |\n",
       "| 8 | 0.2342742 | 0.30      |\n",
       "| 11 | 0.4021824 | 0.45      |\n",
       "| 14 | 0.5472028 | 0.55      |\n",
       "\n"
      ],
      "text/plain": [
       "   Previsto  Real\n",
       "3  0.3698672 0.50\n",
       "6  0.8062246 0.75\n",
       "7  0.6044354 0.55\n",
       "8  0.2342742 0.30\n",
       "11 0.4021824 0.45\n",
       "14 0.5472028 0.55"
      ]
     },
     "metadata": {},
     "output_type": "display_data"
    }
   ],
   "source": [
    "prevendo_G3 <- predict(modelo_v3, teste_norm[, -16])\n",
    "\n",
    "# Visualizando valores previstos e observados\n",
    "\n",
    "resultados <- cbind(prevendo_G3, teste_norm$G3)\n",
    "colnames(resultados) <- c(\"Previsto\", \"Real\")\n",
    "resultados <- as.data.frame(resultados)\n",
    "head(resultados)"
   ]
  },
  {
   "cell_type": "markdown",
   "id": "6ac53a08",
   "metadata": {},
   "source": [
    "Verificando se há valores de notas negativos"
   ]
  },
  {
   "cell_type": "code",
   "execution_count": 83,
   "id": "748af4f8",
   "metadata": {
    "scrolled": true
   },
   "outputs": [
    {
     "data": {
      "text/html": [
       "<table>\n",
       "<thead><tr><th></th><th scope=col>Previsto</th><th scope=col>Real</th></tr></thead>\n",
       "<tbody>\n",
       "\t<tr><th scope=row>136</th><td>-0.03349234</td><td>0          </td></tr>\n",
       "</tbody>\n",
       "</table>\n"
      ],
      "text/latex": [
       "\\begin{tabular}{r|ll}\n",
       "  & Previsto & Real\\\\\n",
       "\\hline\n",
       "\t136 & -0.03349234 & 0          \\\\\n",
       "\\end{tabular}\n"
      ],
      "text/markdown": [
       "\n",
       "| <!--/--> | Previsto | Real |\n",
       "|---|---|---|\n",
       "| 136 | -0.03349234 | 0           |\n",
       "\n"
      ],
      "text/plain": [
       "    Previsto    Real\n",
       "136 -0.03349234 0   "
      ]
     },
     "metadata": {},
     "output_type": "display_data"
    }
   ],
   "source": [
    "resultados[resultados$Previsto < 0 ,]"
   ]
  },
  {
   "cell_type": "markdown",
   "id": "f399e322",
   "metadata": {},
   "source": [
    "Encontramos um valor negativo nesta previsão. Aplicaremos uma função para tratar valores negativos em nossa previsão"
   ]
  },
  {
   "cell_type": "code",
   "execution_count": 85,
   "id": "a1b37beb",
   "metadata": {
    "scrolled": true
   },
   "outputs": [
    {
     "data": {
      "text/html": [
       "<table>\n",
       "<thead><tr><th></th><th scope=col>Previsto</th><th scope=col>Real</th></tr></thead>\n",
       "<tbody>\n",
       "\t<tr><th scope=row>3</th><td>0.3698672</td><td>0.50     </td></tr>\n",
       "\t<tr><th scope=row>6</th><td>0.8062246</td><td>0.75     </td></tr>\n",
       "\t<tr><th scope=row>7</th><td>0.6044354</td><td>0.55     </td></tr>\n",
       "\t<tr><th scope=row>8</th><td>0.2342742</td><td>0.30     </td></tr>\n",
       "\t<tr><th scope=row>11</th><td>0.4021824</td><td>0.45     </td></tr>\n",
       "\t<tr><th scope=row>14</th><td>0.5472028</td><td>0.55     </td></tr>\n",
       "</tbody>\n",
       "</table>\n"
      ],
      "text/latex": [
       "\\begin{tabular}{r|ll}\n",
       "  & Previsto & Real\\\\\n",
       "\\hline\n",
       "\t3 & 0.3698672 & 0.50     \\\\\n",
       "\t6 & 0.8062246 & 0.75     \\\\\n",
       "\t7 & 0.6044354 & 0.55     \\\\\n",
       "\t8 & 0.2342742 & 0.30     \\\\\n",
       "\t11 & 0.4021824 & 0.45     \\\\\n",
       "\t14 & 0.5472028 & 0.55     \\\\\n",
       "\\end{tabular}\n"
      ],
      "text/markdown": [
       "\n",
       "| <!--/--> | Previsto | Real |\n",
       "|---|---|---|\n",
       "| 3 | 0.3698672 | 0.50      |\n",
       "| 6 | 0.8062246 | 0.75      |\n",
       "| 7 | 0.6044354 | 0.55      |\n",
       "| 8 | 0.2342742 | 0.30      |\n",
       "| 11 | 0.4021824 | 0.45      |\n",
       "| 14 | 0.5472028 | 0.55      |\n",
       "\n"
      ],
      "text/plain": [
       "   Previsto  Real\n",
       "3  0.3698672 0.50\n",
       "6  0.8062246 0.75\n",
       "7  0.6044354 0.55\n",
       "8  0.2342742 0.30\n",
       "11 0.4021824 0.45\n",
       "14 0.5472028 0.55"
      ]
     },
     "metadata": {},
     "output_type": "display_data"
    }
   ],
   "source": [
    "resultados$Previsto <- sapply(resultados$Previsto, function(x){ifelse(x < 0, 0, x)})\n",
    "head(resultados)"
   ]
  },
  {
   "cell_type": "markdown",
   "id": "18dedb9f",
   "metadata": {},
   "source": [
    "Agora, calcularemos o erro médio (MSE), ou seja, o quão distantes os valores previstos pelo modelo estão dos valores observados."
   ]
  },
  {
   "cell_type": "code",
   "execution_count": 91,
   "id": "b7c332b9",
   "metadata": {
    "scrolled": true
   },
   "outputs": [
    {
     "name": "stdout",
     "output_type": "stream",
     "text": [
      "[1] 0.01299436\n"
     ]
    }
   ],
   "source": [
    "mse <- mean((resultados$Real - resultados$Previsto)^2)\n",
    "print(mse)"
   ]
  },
  {
   "cell_type": "markdown",
   "id": "83c5b9cb",
   "metadata": {},
   "source": [
    "Calculando o quadrado do erro médio (RMSE)"
   ]
  },
  {
   "cell_type": "code",
   "execution_count": 92,
   "id": "1e4ae97c",
   "metadata": {},
   "outputs": [
    {
     "name": "stdout",
     "output_type": "stream",
     "text": [
      "[1] 0.1139928\n"
     ]
    }
   ],
   "source": [
    "rmse <- mse^0.5\n",
    "print(rmse)"
   ]
  },
  {
   "cell_type": "markdown",
   "id": "1ed9d477",
   "metadata": {},
   "source": [
    "Calculando o R Squared"
   ]
  },
  {
   "cell_type": "code",
   "execution_count": 100,
   "id": "0cd387ae",
   "metadata": {},
   "outputs": [
    {
     "data": {
      "text/html": [
       "0.775164104885258"
      ],
      "text/latex": [
       "0.775164104885258"
      ],
      "text/markdown": [
       "0.775164104885258"
      ],
      "text/plain": [
       "[1] 0.7751641"
      ]
     },
     "metadata": {},
     "output_type": "display_data"
    }
   ],
   "source": [
    "SSE = sum((resultados$Previsto - resultados$Real)^2)\n",
    "SST = sum((mean(dados_norm$G3) - resultados$Real)^2)\n",
    "R2 = 1 - (SSE/SST)\n",
    "R2"
   ]
  },
  {
   "cell_type": "markdown",
   "id": "1874008d",
   "metadata": {},
   "source": [
    "Temos um modelo que explica **77,52%** dos dados"
   ]
  }
 ],
 "metadata": {
  "kernelspec": {
   "display_name": "R",
   "language": "R",
   "name": "ir"
  },
  "language_info": {
   "codemirror_mode": "r",
   "file_extension": ".r",
   "mimetype": "text/x-r-source",
   "name": "R",
   "pygments_lexer": "r",
   "version": "3.6.1"
  }
 },
 "nbformat": 4,
 "nbformat_minor": 5
}
